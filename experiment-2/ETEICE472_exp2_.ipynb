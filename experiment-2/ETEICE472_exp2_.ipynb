{
  "nbformat": 4,
  "nbformat_minor": 0,
  "metadata": {
    "colab": {
      "name": "ETEICE472_exp2 .ipynb",
      "provenance": [],
      "authorship_tag": "ABX9TyPwye0CkXP7NhqJ1p6UKXn8",
      "include_colab_link": true
    },
    "kernelspec": {
      "name": "python3",
      "display_name": "Python 3"
    }
  },
  "cells": [
    {
      "cell_type": "markdown",
      "metadata": {
        "id": "view-in-github",
        "colab_type": "text"
      },
      "source": [
        "<a href=\"https://colab.research.google.com/github/suhailnajeeb/ete-ice-472/blob/master/experiment-2/ETEICE472_exp2_.ipynb\" target=\"_parent\"><img src=\"https://colab.research.google.com/assets/colab-badge.svg\" alt=\"Open In Colab\"/></a>"
      ]
    },
    {
      "cell_type": "markdown",
      "metadata": {
        "id": "nfiJz0lShaHj",
        "colab_type": "text"
      },
      "source": [
        "#ETE ICE 472: Digital Speech & Image Processing\n",
        "Summer 2020\n",
        "## Experiment 2: Basic Image Manipulations in Python\n"
      ]
    },
    {
      "cell_type": "markdown",
      "metadata": {
        "id": "RDYhmJiNnNI1",
        "colab_type": "text"
      },
      "source": [
        "### Library Imports"
      ]
    },
    {
      "cell_type": "code",
      "metadata": {
        "id": "ILukKckvkLgI",
        "colab_type": "code",
        "colab": {}
      },
      "source": [
        "import skimage                        # Imort the Scikit-image Library\n",
        "from skimage import data              # For loading data from skimage library\n",
        "import matplotlib.pyplot as plt       # For plotting the image\n",
        "from skimage import io                # For I/O Operations"
      ],
      "execution_count": null,
      "outputs": []
    },
    {
      "cell_type": "markdown",
      "metadata": {
        "id": "AEsxeOFVnmvY",
        "colab_type": "text"
      },
      "source": [
        "Lets load a sample camera image from the scikit image **data** library and store it into a variable called **camera**"
      ]
    },
    {
      "cell_type": "code",
      "metadata": {
        "id": "y_pWgzd2l8ZU",
        "colab_type": "code",
        "colab": {}
      },
      "source": [
        "camera = data.camera()"
      ],
      "execution_count": null,
      "outputs": []
    },
    {
      "cell_type": "markdown",
      "metadata": {
        "id": "B57mL8RTnzrO",
        "colab_type": "text"
      },
      "source": [
        "Lets check the type of the image using the function **type()**. Usually images are stored as **numpy.ndarray** format. "
      ]
    },
    {
      "cell_type": "code",
      "metadata": {
        "id": "S4V6vHUbl9bH",
        "colab_type": "code",
        "colab": {}
      },
      "source": [
        "type(camera)"
      ],
      "execution_count": null,
      "outputs": []
    },
    {
      "cell_type": "markdown",
      "metadata": {
        "id": "OxC57Flkn-SK",
        "colab_type": "text"
      },
      "source": [
        "The dimensions/spatial resolution of the image is returned by the attribute image.**shape**"
      ]
    },
    {
      "cell_type": "code",
      "metadata": {
        "id": "omUSvw3nmBa8",
        "colab_type": "code",
        "colab": {}
      },
      "source": [
        "camera.shape"
      ],
      "execution_count": null,
      "outputs": []
    },
    {
      "cell_type": "markdown",
      "metadata": {
        "id": "1NGNqpQRoMNN",
        "colab_type": "text"
      },
      "source": [
        "Lets check what actually comprises the image? The pixel values."
      ]
    },
    {
      "cell_type": "code",
      "metadata": {
        "id": "dehEnOLMmDZC",
        "colab_type": "code",
        "colab": {}
      },
      "source": [
        "camera"
      ],
      "execution_count": null,
      "outputs": []
    },
    {
      "cell_type": "markdown",
      "metadata": {
        "id": "49cXeTbgoSV6",
        "colab_type": "text"
      },
      "source": [
        "Let's visualize the image using **plt.imshow()** function followed by the function **plt.show()**"
      ]
    },
    {
      "cell_type": "code",
      "metadata": {
        "id": "lzOcU5timMDN",
        "colab_type": "code",
        "colab": {}
      },
      "source": [
        "plt.imshow(camera)\n",
        "plt.show()"
      ],
      "execution_count": null,
      "outputs": []
    },
    {
      "cell_type": "markdown",
      "metadata": {
        "id": "g7YpjP7YojMn",
        "colab_type": "text"
      },
      "source": [
        "Since this is a black and white image, the function **imshow()** needs an argument **cmap = 'gray'** to render it properly."
      ]
    },
    {
      "cell_type": "code",
      "metadata": {
        "id": "XZtiGhPcoic4",
        "colab_type": "code",
        "colab": {}
      },
      "source": [
        "plt.imshow(camera, cmap = 'gray')\n",
        "plt.show()"
      ],
      "execution_count": null,
      "outputs": []
    },
    {
      "cell_type": "markdown",
      "metadata": {
        "id": "mF37RGmgoyrl",
        "colab_type": "text"
      },
      "source": [
        "### Let's Read a color image\n"
      ]
    },
    {
      "cell_type": "markdown",
      "metadata": {
        "id": "41Jzc80aqMTg",
        "colab_type": "text"
      },
      "source": [
        "You can read in the image by uploading the image 'hello.png' to the **Files** Tab on the left. Then read the image using the **io.imread()** function. "
      ]
    },
    {
      "cell_type": "code",
      "metadata": {
        "id": "Rak0kdAEmcOx",
        "colab_type": "code",
        "colab": {}
      },
      "source": [
        "hello = io.imread('hello.png')"
      ],
      "execution_count": null,
      "outputs": []
    },
    {
      "cell_type": "markdown",
      "metadata": {
        "id": "xpthxp-Oqz6X",
        "colab_type": "text"
      },
      "source": [
        "If you are unable to upload files (mobile users), \n",
        "You can use a link to load the image. \n",
        "Here the image link is: https://raw.githubusercontent.com/suhailnajeeb/ete-ice-472/master/experiment-1/hello.png"
      ]
    },
    {
      "cell_type": "code",
      "metadata": {
        "id": "-drVmYCXqiFA",
        "colab_type": "code",
        "colab": {}
      },
      "source": [
        "hello = io.imread('https://raw.githubusercontent.com/suhailnajeeb/ete-ice-472/master/experiment-1/hello.png')"
      ],
      "execution_count": null,
      "outputs": []
    },
    {
      "cell_type": "code",
      "metadata": {
        "id": "bRMPjew2muZq",
        "colab_type": "code",
        "colab": {}
      },
      "source": [
        "type(hello)"
      ],
      "execution_count": null,
      "outputs": []
    },
    {
      "cell_type": "code",
      "metadata": {
        "id": "0GzL60r3mvQu",
        "colab_type": "code",
        "colab": {}
      },
      "source": [
        "hello.shape"
      ],
      "execution_count": null,
      "outputs": []
    },
    {
      "cell_type": "markdown",
      "metadata": {
        "id": "wtfbo-B_rJcp",
        "colab_type": "text"
      },
      "source": [
        "As you can see, the last value of the **shape** i.e. the dimension of the matrix **hello** is 3, which indicates that this is a color image. Let's also take a look at the image: "
      ]
    },
    {
      "cell_type": "code",
      "metadata": {
        "id": "FRWE-utamwwM",
        "colab_type": "code",
        "colab": {}
      },
      "source": [
        "hello"
      ],
      "execution_count": null,
      "outputs": []
    },
    {
      "cell_type": "code",
      "metadata": {
        "id": "4gLZPmu2m2kZ",
        "colab_type": "code",
        "colab": {}
      },
      "source": [
        "plt.imshow(hello)\n",
        "plt.show()"
      ],
      "execution_count": null,
      "outputs": []
    },
    {
      "cell_type": "markdown",
      "metadata": {
        "id": "De-TeNIrG7OT",
        "colab_type": "text"
      },
      "source": [
        "### Resizing Image: "
      ]
    },
    {
      "cell_type": "code",
      "metadata": {
        "id": "wEnSGLXXHPkB",
        "colab_type": "code",
        "colab": {}
      },
      "source": [
        "astro_img = data.astronaut()"
      ],
      "execution_count": null,
      "outputs": []
    },
    {
      "cell_type": "code",
      "metadata": {
        "id": "Fpvy5XjjHUsX",
        "colab_type": "code",
        "colab": {}
      },
      "source": [
        "astro_img.shape"
      ],
      "execution_count": null,
      "outputs": []
    },
    {
      "cell_type": "code",
      "metadata": {
        "id": "2oT5hNLkIVZC",
        "colab_type": "code",
        "colab": {}
      },
      "source": [
        "plt.imshow(astro_img)"
      ],
      "execution_count": null,
      "outputs": []
    },
    {
      "cell_type": "code",
      "metadata": {
        "id": "m7UahhsiIdKq",
        "colab_type": "code",
        "colab": {}
      },
      "source": [
        "from skimage.transform import resize"
      ],
      "execution_count": null,
      "outputs": []
    },
    {
      "cell_type": "code",
      "metadata": {
        "id": "CTv2Ad4BI1xx",
        "colab_type": "code",
        "colab": {}
      },
      "source": [
        "resized_img = resize(astro_img, (128, 128, 3))\n",
        "plt.imshow(resized_img)\n",
        "plt.show()"
      ],
      "execution_count": null,
      "outputs": []
    },
    {
      "cell_type": "markdown",
      "metadata": {
        "id": "tgKG_hcLPlxx",
        "colab_type": "text"
      },
      "source": [
        "### Slicing/Cropping an Image: "
      ]
    },
    {
      "cell_type": "code",
      "metadata": {
        "id": "3TXc9fJkPq0L",
        "colab_type": "code",
        "colab": {}
      },
      "source": [
        "plt.imshow(astro_img)\n",
        "plt.show()"
      ],
      "execution_count": null,
      "outputs": []
    },
    {
      "cell_type": "code",
      "metadata": {
        "id": "XCjmfSEBP28O",
        "colab_type": "code",
        "colab": {}
      },
      "source": [
        "cropped_img = astro_img[0:200, 100:300]\n",
        "plt.imshow(cropped_img)\n",
        "plt.show()"
      ],
      "execution_count": null,
      "outputs": []
    },
    {
      "cell_type": "markdown",
      "metadata": {
        "id": "e-36N4XJOqaQ",
        "colab_type": "text"
      },
      "source": [
        "### Storing Image to File: "
      ]
    },
    {
      "cell_type": "code",
      "metadata": {
        "id": "JqSFOLAlOtur",
        "colab_type": "code",
        "colab": {}
      },
      "source": [
        "io.imsave('astro_face.jpg', cropped_img)"
      ],
      "execution_count": null,
      "outputs": []
    },
    {
      "cell_type": "markdown",
      "metadata": {
        "id": "-jl3nc7EQhmr",
        "colab_type": "text"
      },
      "source": [
        "## Assignment: \n",
        "\n",
        "\n",
        "(1) Run this notebook and produce the outputs.  \n",
        "(2) Choose any image you wish (you can either upload the image file or you can load it with a link) and perform the following operations: \n",
        "\n",
        "* Load the image into python\n",
        "* Check the shape of the image\n",
        "* Show/Display the image\n",
        "* Resize the image into 1/2 of its original shape\n",
        "* Show the image on screen\n",
        "* Crop a portion of the image\n",
        "* Show the cropped image on screen & \n",
        "* Save the image into an image file named 'output.jpg'\n",
        "\n",
        "(c) Add a discussion section briefly describing your work and what you learnt from this experiment. \n",
        "\n",
        "Save the whole notebook as a PDF and submit it as your submission. In the first cell, Type the Experiment no., Name & Student ID. \n",
        "\n",
        "*A better score can be ensured by keeping your notebook clean, organized and easily understandable.*"
      ]
    }
  ]
}