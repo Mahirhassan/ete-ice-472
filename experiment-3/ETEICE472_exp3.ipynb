{
  "nbformat": 4,
  "nbformat_minor": 0,
  "metadata": {
    "colab": {
      "name": "ETEICE472_exp3.ipynb",
      "provenance": [],
      "authorship_tag": "ABX9TyOF1d4Ha0DT5DtLn8XPqIfb",
      "include_colab_link": true
    },
    "kernelspec": {
      "name": "python3",
      "display_name": "Python 3"
    }
  },
  "cells": [
    {
      "cell_type": "markdown",
      "metadata": {
        "id": "view-in-github",
        "colab_type": "text"
      },
      "source": [
        "<a href=\"https://colab.research.google.com/github/suhailnajeeb/ete-ice-472/blob/master/experiment-3/ETEICE472_exp3.ipynb\" target=\"_parent\"><img src=\"https://colab.research.google.com/assets/colab-badge.svg\" alt=\"Open In Colab\"/></a>"
      ]
    },
    {
      "cell_type": "markdown",
      "metadata": {
        "id": "qSeJ5TGH9Ykv",
        "colab_type": "text"
      },
      "source": [
        "##ETE ICE 472: Digital Speech & Image Processing\n",
        "### Summer 2020\n",
        "# Experiment 3: Gray Level Transformations\n"
      ]
    },
    {
      "cell_type": "code",
      "metadata": {
        "id": "KdnvZwWj9mHA",
        "colab_type": "code",
        "colab": {}
      },
      "source": [
        "# Name: \n",
        "# Student ID: "
      ],
      "execution_count": null,
      "outputs": []
    },
    {
      "cell_type": "markdown",
      "metadata": {
        "id": "eyU9i9Rk-FQG",
        "colab_type": "text"
      },
      "source": [
        "### Library Imports"
      ]
    },
    {
      "cell_type": "code",
      "metadata": {
        "id": "rHj23I01-IDs",
        "colab_type": "code",
        "colab": {}
      },
      "source": [
        "import skimage\n",
        "from skimage import data\n",
        "import matplotlib.pyplot as plt\n",
        "import numpy as np"
      ],
      "execution_count": null,
      "outputs": []
    },
    {
      "cell_type": "markdown",
      "metadata": {
        "id": "GNiSG-b11_U7",
        "colab_type": "text"
      },
      "source": [
        "## Loading the Image"
      ]
    },
    {
      "cell_type": "code",
      "metadata": {
        "id": "jQqcntDl-KMm",
        "colab_type": "code",
        "colab": {}
      },
      "source": [
        "img = data.camera()\n",
        "img_flat = img.flatten()    # A flat version of the image is also prepared, in order to easily apply the transformation functions later.\n",
        "plt.imshow(img, cmap = 'gray')\n",
        "plt.show()"
      ],
      "execution_count": null,
      "outputs": []
    },
    {
      "cell_type": "markdown",
      "metadata": {
        "id": "WasAmWeh-Tos",
        "colab_type": "text"
      },
      "source": [
        "## Image Negatives"
      ]
    },
    {
      "cell_type": "markdown",
      "metadata": {
        "id": "_dfxpn933gID",
        "colab_type": "text"
      },
      "source": [
        "$ s = L - 1 - r$"
      ]
    },
    {
      "cell_type": "code",
      "metadata": {
        "id": "u2hAi3N0-uXH",
        "colab_type": "code",
        "colab": {}
      },
      "source": [
        "L = 256                     # Number of Gray Levels\n",
        "neg = lambda r: L - 1 - r     # Lambda Function for the Transformation Operation"
      ],
      "execution_count": null,
      "outputs": []
    },
    {
      "cell_type": "markdown",
      "metadata": {
        "id": "mayXSW1W24YF",
        "colab_type": "text"
      },
      "source": [
        "### Transformation Function:"
      ]
    },
    {
      "cell_type": "code",
      "metadata": {
        "id": "sbYvvNI32JVA",
        "colab_type": "code",
        "colab": {}
      },
      "source": [
        "r = np.arange(L)\n",
        "s = [neg(x) for x in r]\n",
        "plt.plot(r,s)\n",
        "plt.show()"
      ],
      "execution_count": null,
      "outputs": []
    },
    {
      "cell_type": "code",
      "metadata": {
        "id": "tHPoTRbszfBD",
        "colab_type": "code",
        "colab": {}
      },
      "source": [
        "neg_img = neg(img)\n",
        "plt.imshow(neg_img, cmap = 'gray')\n",
        "plt.show()"
      ],
      "execution_count": null,
      "outputs": []
    },
    {
      "cell_type": "markdown",
      "metadata": {
        "id": "miSwB5eQzjw9",
        "colab_type": "text"
      },
      "source": [
        "## Log Transformation"
      ]
    },
    {
      "cell_type": "markdown",
      "metadata": {
        "id": "3zT49OXf3W0X",
        "colab_type": "text"
      },
      "source": [
        "$ s = c*log(1 + r) $"
      ]
    },
    {
      "cell_type": "code",
      "metadata": {
        "id": "feHbMI6l0bq4",
        "colab_type": "code",
        "colab": {}
      },
      "source": [
        "L = 256\n",
        "c = (L-1)/np.log(L-1)                               # Automatically calculate the value of c from the formula\n",
        "logt = lambda r: int(np.round(c * np.log(1+r)))      # Lambda Function for Log Transformation"
      ],
      "execution_count": null,
      "outputs": []
    },
    {
      "cell_type": "markdown",
      "metadata": {
        "id": "0CsgOzrx3One",
        "colab_type": "text"
      },
      "source": [
        "### Transformation Function"
      ]
    },
    {
      "cell_type": "code",
      "metadata": {
        "id": "KCv6iFnW06hC",
        "colab_type": "code",
        "colab": {}
      },
      "source": [
        "r = np.arange(L)\n",
        "s = [logt(x) for x in r]\n",
        "plt.plot(r,s)\n",
        "plt.show()"
      ],
      "execution_count": null,
      "outputs": []
    },
    {
      "cell_type": "markdown",
      "metadata": {
        "id": "92HMUQhU2lRz",
        "colab_type": "text"
      },
      "source": [
        "Producing the log-transformed image is done in a step/by step process: \n",
        "\n",
        "```[f(x) for x in img_flat]``` -> Calculates all the values of pixels individually and stores them into a list  \n",
        "```np.asarray( ... list ... )``` -> Converts the list of pixels into a numpy array  \n",
        "```(....).reshape(img.shape)``` -> reshape the flat numpy array to the original image shape"
      ]
    },
    {
      "cell_type": "code",
      "metadata": {
        "id": "DZ30JyjgRiDk",
        "colab_type": "code",
        "colab": {}
      },
      "source": [
        "log_img = np.asarray([logt(x) for x in img_flat]).reshape(img.shape)"
      ],
      "execution_count": null,
      "outputs": []
    },
    {
      "cell_type": "code",
      "metadata": {
        "id": "-dznJply07VO",
        "colab_type": "code",
        "colab": {}
      },
      "source": [
        "plt.imshow(log_img, cmap = 'gray')\n",
        "plt.show()"
      ],
      "execution_count": null,
      "outputs": []
    },
    {
      "cell_type": "markdown",
      "metadata": {
        "id": "mqV6SdJM3uX0",
        "colab_type": "text"
      },
      "source": [
        "## Power Law Transformations"
      ]
    },
    {
      "cell_type": "markdown",
      "metadata": {
        "id": "uJXCn7nYS6E7",
        "colab_type": "text"
      },
      "source": [
        "$ s = c r^\\gamma $"
      ]
    },
    {
      "cell_type": "code",
      "metadata": {
        "id": "y3xUjjhCUXmd",
        "colab_type": "code",
        "colab": {}
      },
      "source": [
        "L = 256\n",
        "gamma = 1/2\n",
        "c = (L-1)**(1-gamma)                           # Automatically calculate the value of c\n",
        "powt = lambda r: int(np.round(c*r**gamma))     # Lambda function for the power law transformation"
      ],
      "execution_count": null,
      "outputs": []
    },
    {
      "cell_type": "code",
      "metadata": {
        "id": "jD9MA_AvUkEx",
        "colab_type": "code",
        "colab": {}
      },
      "source": [
        "r = np.arange(L)\n",
        "s = [powt(x) for x in r]\n",
        "plt.plot(r,s)\n",
        "plt.show()"
      ],
      "execution_count": null,
      "outputs": []
    },
    {
      "cell_type": "markdown",
      "metadata": {
        "id": "SJIk77hGV9fv",
        "colab_type": "text"
      },
      "source": [
        "## Effect of Gamma on Transformation function"
      ]
    },
    {
      "cell_type": "code",
      "metadata": {
        "id": "_WpE4pqkUpQG",
        "colab_type": "code",
        "colab": {}
      },
      "source": [
        "gammas = [0.04, 0.10, 0.20, 0.40, 0.67, 1, 1.5, 2.5, 5, 10, 25]       # Array containing a number of gamma values"
      ],
      "execution_count": null,
      "outputs": []
    },
    {
      "cell_type": "code",
      "metadata": {
        "id": "oasW7cUIVbjS",
        "colab_type": "code",
        "colab": {}
      },
      "source": [
        "# Loop over gamma values and plot their transformation functions\n",
        "L = 256\n",
        "r = np.arange(L)\n",
        "for gamma in gammas:\n",
        "  c = (L-1)**(1-gamma)\n",
        "  powt = lambda r: int(np.round(c*r**gamma))\n",
        "  s = [powt(x) for x in r]\n",
        "  plt.plot(r,s)\n",
        "  plt.legend(gammas)\n",
        "plt.show()"
      ],
      "execution_count": null,
      "outputs": []
    },
    {
      "cell_type": "code",
      "metadata": {
        "id": "0NuIliVwWfTb",
        "colab_type": "code",
        "colab": {}
      },
      "source": [
        "gamma = 1.5\n",
        "c = 255**(1-gamma)\n",
        "powt = lambda r: int(np.round(c*r**gamma))"
      ],
      "execution_count": null,
      "outputs": []
    },
    {
      "cell_type": "code",
      "metadata": {
        "id": "ywAfEjZ8VsDB",
        "colab_type": "code",
        "colab": {}
      },
      "source": [
        "power_img = np.asarray([powt(x) for x in img_flat]).reshape(img.shape)"
      ],
      "execution_count": null,
      "outputs": []
    },
    {
      "cell_type": "code",
      "metadata": {
        "id": "9pX2FPcxWZbK",
        "colab_type": "code",
        "colab": {}
      },
      "source": [
        "plt.imshow(power_img, cmap = 'gray')\n",
        "plt.show()"
      ],
      "execution_count": null,
      "outputs": []
    },
    {
      "cell_type": "markdown",
      "metadata": {
        "id": "BMa9y7RYWZ9p",
        "colab_type": "text"
      },
      "source": [
        "## Contrast Stretching"
      ]
    },
    {
      "cell_type": "code",
      "metadata": {
        "id": "y8grilpCYKrE",
        "colab_type": "code",
        "colab": {}
      },
      "source": [
        "(r1, s1) = (100, 20)\n",
        "(r2, s2) = (150, 220)"
      ],
      "execution_count": null,
      "outputs": []
    },
    {
      "cell_type": "markdown",
      "metadata": {
        "id": "i5_Dk92R4uQB",
        "colab_type": "text"
      },
      "source": [
        "Equation of Straight Line from (0,0) to (r1, s1):  \n",
        "$ y = \\frac{s1}{r1} x$  \n",
        "Equation of Straight Line from (r1, s1) to (r2, s2):   \n",
        "$ y = \\frac {s2 - s1}{r2 - r1}(x-r1) + s1 $  \n",
        "Equation of Straight Line from (r2, s2) to (255, 255):   \n",
        "$ y = \\frac {s2-255}{r2-255}(x-255) + 255 $ "
      ]
    },
    {
      "cell_type": "code",
      "metadata": {
        "id": "9ws02aGpY4Rl",
        "colab_type": "code",
        "colab": {}
      },
      "source": [
        "# Function for contrast stretching\n",
        "def cont_stretch(x):\n",
        "  if (x <= r1):\n",
        "    return s1/r1*x\n",
        "  if (r1 < x <= r2):\n",
        "    return (s2 - s1)/(r2 - r1)*(x - r1) + s1\n",
        "  if (x > r2):\n",
        "    return (s2 - 255)/(r2 - 255)*(x - 255) + 255"
      ],
      "execution_count": null,
      "outputs": []
    },
    {
      "cell_type": "code",
      "metadata": {
        "id": "e89rA60YZsWR",
        "colab_type": "code",
        "colab": {}
      },
      "source": [
        "r = np.arange(L)\n",
        "s = [cont_stretch(x) for x in r]\n",
        "plt.plot(r,s)\n",
        "plt.show()"
      ],
      "execution_count": null,
      "outputs": []
    },
    {
      "cell_type": "code",
      "metadata": {
        "id": "1Xiy-DnTbhF8",
        "colab_type": "code",
        "colab": {}
      },
      "source": [
        "cont_img = np.asarray([cont_stretch(x) for x in img_flat]).reshape(img.shape)"
      ],
      "execution_count": null,
      "outputs": []
    },
    {
      "cell_type": "code",
      "metadata": {
        "id": "X6Rks8TwbnsD",
        "colab_type": "code",
        "colab": {}
      },
      "source": [
        "plt.imshow(cont_img, cmap = 'gray')\n",
        "plt.show()"
      ],
      "execution_count": null,
      "outputs": []
    },
    {
      "cell_type": "markdown",
      "metadata": {
        "id": "9Te2SHxwcc5Z",
        "colab_type": "text"
      },
      "source": [
        "## Thresholding"
      ]
    },
    {
      "cell_type": "code",
      "metadata": {
        "id": "oTV4FJsrbqwl",
        "colab_type": "code",
        "colab": {}
      },
      "source": [
        "m = 100           # Value of Threshold\n",
        "def thresh(x):\n",
        "  if(x < m):\n",
        "    return 0\n",
        "  else:\n",
        "    return 255"
      ],
      "execution_count": null,
      "outputs": []
    },
    {
      "cell_type": "code",
      "metadata": {
        "id": "MVXsaX5fcDyV",
        "colab_type": "code",
        "colab": {}
      },
      "source": [
        "r = np.arange(L)\n",
        "s = [thresh(x) for x in r]\n",
        "plt.plot(r,s)\n",
        "plt.show()"
      ],
      "execution_count": null,
      "outputs": []
    },
    {
      "cell_type": "code",
      "metadata": {
        "id": "zWx_r_Jqcjgj",
        "colab_type": "code",
        "colab": {}
      },
      "source": [
        "thresh_img = np.asarray([thresh(x) for x in img_flat]).reshape(img.shape)"
      ],
      "execution_count": null,
      "outputs": []
    },
    {
      "cell_type": "code",
      "metadata": {
        "id": "c0tg-eogcuw4",
        "colab_type": "code",
        "colab": {}
      },
      "source": [
        "plt.imshow(thresh_img, cmap = 'gray')\n",
        "plt.show()"
      ],
      "execution_count": null,
      "outputs": []
    },
    {
      "cell_type": "markdown",
      "metadata": {
        "id": "Rx7fnVh_EHRr",
        "colab_type": "text"
      },
      "source": [
        "## Assignment: \n",
        "\n",
        "(1)  Run this notebook and produce the outputs. \n",
        "\n",
        "(2)  Choose a Gray Image (not color image), or input a color image as a gray image (to do this, set the **as_gray** argument to **True** while using the **imread()** function. You can either load the image by uploading it or use a link.\n",
        "\n",
        "(a) Apply a gamma of 2.5 to obtain a new image. Then, apply gamma correction to this image to obtain the original image. Show both images. \n",
        "\n",
        "(b) Apply the following transformation to the original image and show the image:   \n",
        "\n",
        "$ s = \\frac {c} {1 + r + r^2} $\n",
        "\n",
        "[Calculate the value of c by yourself, assume 256 Level quantization]\n",
        "\n",
        "(3) Enhance the contrast of the following image: https://homepages.inf.ed.ac.uk/rbf/HIPR2/images/wom1.gif  so that the pixels in the range 100 ~ 120 are boosted in contrast. Show the input & output image. "
      ]
    },
    {
      "cell_type": "markdown",
      "metadata": {
        "id": "NqSVxUg8Sj5G",
        "colab_type": "text"
      },
      "source": [
        "## Loading the image:"
      ]
    },
    {
      "cell_type": "code",
      "metadata": {
        "id": "9E7_0LhYSmXk",
        "colab_type": "code",
        "colab": {}
      },
      "source": [
        ""
      ],
      "execution_count": null,
      "outputs": []
    },
    {
      "cell_type": "markdown",
      "metadata": {
        "id": "qZMSg1y9SoDc",
        "colab_type": "text"
      },
      "source": [
        "## Problem 2(a): Gamma Correction "
      ]
    },
    {
      "cell_type": "code",
      "metadata": {
        "id": "yoRk-9SESrqn",
        "colab_type": "code",
        "colab": {}
      },
      "source": [
        ""
      ],
      "execution_count": null,
      "outputs": []
    },
    {
      "cell_type": "markdown",
      "metadata": {
        "id": "2C5G8mG5Sst_",
        "colab_type": "text"
      },
      "source": [
        "## Problem 2(b): Custom Transformation"
      ]
    },
    {
      "cell_type": "code",
      "metadata": {
        "id": "TQguw_OWSyj1",
        "colab_type": "code",
        "colab": {}
      },
      "source": [
        ""
      ],
      "execution_count": null,
      "outputs": []
    },
    {
      "cell_type": "markdown",
      "metadata": {
        "id": "yXTCb_VhS0fE",
        "colab_type": "text"
      },
      "source": [
        "## Problem 3: Contrast Enhancement"
      ]
    },
    {
      "cell_type": "code",
      "metadata": {
        "id": "TUfSuDkMS7KS",
        "colab_type": "code",
        "colab": {}
      },
      "source": [
        ""
      ],
      "execution_count": null,
      "outputs": []
    },
    {
      "cell_type": "markdown",
      "metadata": {
        "id": "nSdrtT-7S8NE",
        "colab_type": "text"
      },
      "source": [
        "## Discussion: "
      ]
    },
    {
      "cell_type": "code",
      "metadata": {
        "id": "Ymhl0_ibS-yj",
        "colab_type": "code",
        "colab": {}
      },
      "source": [
        "'''\n",
        "\n",
        "Write your discussion here.\n",
        "\n",
        "'''"
      ],
      "execution_count": null,
      "outputs": []
    }
  ]
}